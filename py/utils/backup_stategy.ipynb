{
 "cells": [
  {
   "cell_type": "code",
   "execution_count": 4,
   "id": "962c7ce5",
   "metadata": {},
   "outputs": [
    {
     "name": "stdout",
     "output_type": "stream",
     "text": [
      "Overwriting /home/ubuntu/py/utils/buckup.py\n"
     ]
    }
   ],
   "source": [
    "%%writefile /home/ubuntu/py/utils/buckup.py\n",
    "\n"
   ]
  },
  {
   "cell_type": "code",
   "execution_count": null,
   "id": "b246801f",
   "metadata": {},
   "outputs": [],
   "source": [
    "# create archive of the folder\n",
    "# upload archive to storage\n",
    "# ignore some folders"
   ]
  },
  {
   "cell_type": "code",
   "execution_count": 7,
   "id": "8febf64f",
   "metadata": {},
   "outputs": [],
   "source": [
    "from subprocess import run"
   ]
  },
  {
   "cell_type": "code",
   "execution_count": 15,
   "id": "b0f60cb3",
   "metadata": {},
   "outputs": [],
   "source": [
    "from io import BytesIO"
   ]
  },
  {
   "cell_type": "code",
   "execution_count": 24,
   "id": "726ba8fb",
   "metadata": {},
   "outputs": [],
   "source": [
    "import tarfile"
   ]
  },
  {
   "cell_type": "code",
   "execution_count": null,
   "id": "70d198ca",
   "metadata": {},
   "outputs": [],
   "source": [
    "tarfile."
   ]
  },
  {
   "cell_type": "code",
   "execution_count": 18,
   "id": "06d182c4",
   "metadata": {},
   "outputs": [],
   "source": [
    "r = run(['tar','-cz','_yolov5s_all.pkl'], capture_output=True)"
   ]
  },
  {
   "cell_type": "code",
   "execution_count": 20,
   "id": "eef5ba04",
   "metadata": {},
   "outputs": [
    {
     "data": {
      "text/plain": [
       "b\"\\x1f\\x8b\\x08\\x00\\x00\\x00\\x00\\x00\\x00\\x03\\xed\\xc1\\x01\\r\\x00\\x00\\x00\\xc2\\xa0\\xf7Om\\x0e7\\xa0\\x00\\x00\\x00\\x00\\x00\\x00\\x00\\x00\\x00\\x807\\x03\\x9a\\xde\\x1d'\\x00(\\x00\\x00\""
      ]
     },
     "execution_count": 20,
     "metadata": {},
     "output_type": "execute_result"
    }
   ],
   "source": [
    "r.stdout"
   ]
  },
  {
   "cell_type": "code",
   "execution_count": 11,
   "id": "d3a6a192",
   "metadata": {},
   "outputs": [],
   "source": [
    "from py.utils import yandex_disk"
   ]
  },
  {
   "cell_type": "code",
   "execution_count": 19,
   "id": "30c0a30d",
   "metadata": {},
   "outputs": [],
   "source": [
    "with BytesIO(r.stdout) as f:\n",
    "    y.upload(f, 'backup/backup.tar')"
   ]
  },
  {
   "cell_type": "code",
   "execution_count": 12,
   "id": "4f151635",
   "metadata": {},
   "outputs": [],
   "source": [
    "y = yandex_disk.YandexDisk()"
   ]
  },
  {
   "cell_type": "code",
   "execution_count": 21,
   "id": "39d49886",
   "metadata": {},
   "outputs": [
    {
     "data": {
      "text/plain": [
       "CompletedProcess(args=['tar', '-tzvf', '/home/ubuntu/backup.tar'], returncode=0)"
      ]
     },
     "execution_count": 21,
     "metadata": {},
     "output_type": "execute_result"
    }
   ],
   "source": [
    "run(['tar','-tzvf','/home/ubuntu/backup.tar'])"
   ]
  },
  {
   "cell_type": "code",
   "execution_count": 22,
   "id": "7c19c48a",
   "metadata": {},
   "outputs": [],
   "source": []
  }
 ],
 "metadata": {
  "kernelspec": {
   "display_name": "Python 3 (ipykernel)",
   "language": "python",
   "name": "python3"
  },
  "language_info": {
   "codemirror_mode": {
    "name": "ipython",
    "version": 3
   },
   "file_extension": ".py",
   "mimetype": "text/x-python",
   "name": "python",
   "nbconvert_exporter": "python",
   "pygments_lexer": "ipython3",
   "version": "3.9.7"
  },
  "toc": {
   "base_numbering": 1,
   "nav_menu": {},
   "number_sections": true,
   "sideBar": true,
   "skip_h1_title": false,
   "title_cell": "Table of Contents",
   "title_sidebar": "Contents",
   "toc_cell": false,
   "toc_position": {},
   "toc_section_display": true,
   "toc_window_display": false
  }
 },
 "nbformat": 4,
 "nbformat_minor": 5
}
